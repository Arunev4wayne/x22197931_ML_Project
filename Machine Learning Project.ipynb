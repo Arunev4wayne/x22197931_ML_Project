{
 "cells": [
  {
   "cell_type": "code",
   "execution_count": 2,
   "id": "f61c385a-8454-473d-83da-3a2354ef46c4",
   "metadata": {},
   "outputs": [],
   "source": [
    "#Import libraries\n",
    "import numpy as np\n",
    "import pandas as pd\n",
    "import seaborn as sns\n",
    "from tensorflow.keras.preprocessing.text import Tokenizer\n",
    "from tensorflow.keras.preprocessing.sequence import pad_sequences\n",
    "from sklearn.model_selection import train_test_split\n",
    "from sklearn.preprocessing import LabelEncoder\n",
    "from tensorflow.keras.models import Sequential\n",
    "from tensorflow.keras.layers import Embedding, LSTM, Dense, SpatialDropout1D\n",
    "from sklearn.metrics import confusion_matrix\n",
    "from tensorflow.keras.callbacks import EarlyStopping\n",
    "from tensorflow.keras.layers import Dropout\n",
    "import re \n",
    "from sklearn.feature_extraction.text import TfidfVectorizer\n",
    "from nltk.stem import WordNetLemmatizer\n",
    "from nltk.corpus import stopwords\n",
    "from nltk.corpus import stopwords\n",
    "from nltk.tokenize import word_tokenize\n",
    "from nltk.stem import WordNetLemmatizer\n",
    "import string "
   ]
  },
  {
   "cell_type": "code",
   "execution_count": 3,
   "id": "0cc25660-026c-434a-aa76-a87ea79f381b",
   "metadata": {},
   "outputs": [],
   "source": [
    "df = pd.read_csv('cyber-threat-intelligence_all2.csv')"
   ]
  },
  {
   "cell_type": "code",
   "execution_count": 4,
   "id": "edfc5422-7aca-4dd1-a74e-b14153d2b960",
   "metadata": {},
   "outputs": [
    {
     "data": {
      "text/html": [
       "<div>\n",
       "<style scoped>\n",
       "    .dataframe tbody tr th:only-of-type {\n",
       "        vertical-align: middle;\n",
       "    }\n",
       "\n",
       "    .dataframe tbody tr th {\n",
       "        vertical-align: top;\n",
       "    }\n",
       "\n",
       "    .dataframe thead th {\n",
       "        text-align: right;\n",
       "    }\n",
       "</style>\n",
       "<table border=\"1\" class=\"dataframe\">\n",
       "  <thead>\n",
       "    <tr style=\"text-align: right;\">\n",
       "      <th></th>\n",
       "      <th>Unnamed: 0</th>\n",
       "      <th>index</th>\n",
       "      <th>text</th>\n",
       "      <th>entities</th>\n",
       "      <th>relations</th>\n",
       "      <th>Comments</th>\n",
       "      <th>id</th>\n",
       "      <th>label</th>\n",
       "      <th>start_offset</th>\n",
       "      <th>end_offset</th>\n",
       "    </tr>\n",
       "  </thead>\n",
       "  <tbody>\n",
       "    <tr>\n",
       "      <th>0</th>\n",
       "      <td>0</td>\n",
       "      <td>1.0</td>\n",
       "      <td>This post is also available in:      日本語 (Japa...</td>\n",
       "      <td>[{'id': 45800, 'label': 'malware', 'start_offs...</td>\n",
       "      <td>[]</td>\n",
       "      <td>[]</td>\n",
       "      <td>45800.0</td>\n",
       "      <td>malware</td>\n",
       "      <td>288.0</td>\n",
       "      <td>300.0</td>\n",
       "    </tr>\n",
       "    <tr>\n",
       "      <th>1</th>\n",
       "      <td>1</td>\n",
       "      <td>2.0</td>\n",
       "      <td>The attack vector is very basic and repeats it...</td>\n",
       "      <td>[{'id': 48941, 'label': 'attack-pattern', 'sta...</td>\n",
       "      <td>[]</td>\n",
       "      <td>[]</td>\n",
       "      <td>48941.0</td>\n",
       "      <td>attack-pattern</td>\n",
       "      <td>69.0</td>\n",
       "      <td>115.0</td>\n",
       "    </tr>\n",
       "    <tr>\n",
       "      <th>2</th>\n",
       "      <td>2</td>\n",
       "      <td>3.0</td>\n",
       "      <td>Once executed by the user the first stage malw...</td>\n",
       "      <td>[]</td>\n",
       "      <td>[]</td>\n",
       "      <td>[]</td>\n",
       "      <td>NaN</td>\n",
       "      <td>NaN</td>\n",
       "      <td>NaN</td>\n",
       "      <td>NaN</td>\n",
       "    </tr>\n",
       "    <tr>\n",
       "      <th>3</th>\n",
       "      <td>3</td>\n",
       "      <td>4.0</td>\n",
       "      <td>The first known campaign was launched by Crim...</td>\n",
       "      <td>[{'id': 45806, 'label': 'TIME', 'start_offset'...</td>\n",
       "      <td>[]</td>\n",
       "      <td>[]</td>\n",
       "      <td>45806.0</td>\n",
       "      <td>TIME</td>\n",
       "      <td>55.0</td>\n",
       "      <td>68.0</td>\n",
       "    </tr>\n",
       "    <tr>\n",
       "      <th>4</th>\n",
       "      <td>4</td>\n",
       "      <td>5.0</td>\n",
       "      <td>The first stage downloaded the ransomware from...</td>\n",
       "      <td>[]</td>\n",
       "      <td>[]</td>\n",
       "      <td>[]</td>\n",
       "      <td>NaN</td>\n",
       "      <td>NaN</td>\n",
       "      <td>NaN</td>\n",
       "      <td>NaN</td>\n",
       "    </tr>\n",
       "  </tbody>\n",
       "</table>\n",
       "</div>"
      ],
      "text/plain": [
       "   Unnamed: 0  index                                               text  \\\n",
       "0           0    1.0  This post is also available in:      日本語 (Japa...   \n",
       "1           1    2.0  The attack vector is very basic and repeats it...   \n",
       "2           2    3.0  Once executed by the user the first stage malw...   \n",
       "3           3    4.0   The first known campaign was launched by Crim...   \n",
       "4           4    5.0  The first stage downloaded the ransomware from...   \n",
       "\n",
       "                                            entities relations Comments  \\\n",
       "0  [{'id': 45800, 'label': 'malware', 'start_offs...        []       []   \n",
       "1  [{'id': 48941, 'label': 'attack-pattern', 'sta...        []       []   \n",
       "2                                                 []        []       []   \n",
       "3  [{'id': 45806, 'label': 'TIME', 'start_offset'...        []       []   \n",
       "4                                                 []        []       []   \n",
       "\n",
       "        id           label  start_offset  end_offset  \n",
       "0  45800.0         malware         288.0       300.0  \n",
       "1  48941.0  attack-pattern          69.0       115.0  \n",
       "2      NaN             NaN           NaN         NaN  \n",
       "3  45806.0            TIME          55.0        68.0  \n",
       "4      NaN             NaN           NaN         NaN  "
      ]
     },
     "execution_count": 4,
     "metadata": {},
     "output_type": "execute_result"
    }
   ],
   "source": [
    "df.head()"
   ]
  },
  {
   "cell_type": "code",
   "execution_count": 5,
   "id": "912f9178-b633-480a-b0f1-c43883e775a2",
   "metadata": {},
   "outputs": [
    {
     "name": "stdout",
     "output_type": "stream",
     "text": [
      "<class 'pandas.core.frame.DataFrame'>\n",
      "RangeIndex: 19940 entries, 0 to 19939\n",
      "Data columns (total 10 columns):\n",
      " #   Column        Non-Null Count  Dtype  \n",
      "---  ------        --------------  -----  \n",
      " 0   Unnamed: 0    19940 non-null  int64  \n",
      " 1   index         19464 non-null  float64\n",
      " 2   text          19940 non-null  object \n",
      " 3   entities      19464 non-null  object \n",
      " 4   relations     19464 non-null  object \n",
      " 5   Comments      19464 non-null  object \n",
      " 6   id            9462 non-null   float64\n",
      " 7   label         9938 non-null   object \n",
      " 8   start_offset  9462 non-null   float64\n",
      " 9   end_offset    9462 non-null   float64\n",
      "dtypes: float64(4), int64(1), object(5)\n",
      "memory usage: 1.5+ MB\n"
     ]
    }
   ],
   "source": [
    "#Display quick summary of Dataset\n",
    "df.info()"
   ]
  },
  {
   "cell_type": "code",
   "execution_count": 7,
   "id": "731bedfe-452f-4bc8-ad75-c46c0a515a06",
   "metadata": {},
   "outputs": [],
   "source": [
    "#Remove unnamed column\n",
    "df.drop(df.columns[df.columns.str.contains(\n",
    "    'unnamed', case=False)], axis=1, inplace=True)"
   ]
  },
  {
   "cell_type": "code",
   "execution_count": 8,
   "id": "f787d91a-38d9-4560-a21c-b1988e6310f1",
   "metadata": {},
   "outputs": [
    {
     "name": "stdout",
     "output_type": "stream",
     "text": [
      "<class 'pandas.core.frame.DataFrame'>\n",
      "RangeIndex: 19940 entries, 0 to 19939\n",
      "Data columns (total 9 columns):\n",
      " #   Column        Non-Null Count  Dtype  \n",
      "---  ------        --------------  -----  \n",
      " 0   index         19464 non-null  float64\n",
      " 1   text          19940 non-null  object \n",
      " 2   entities      19464 non-null  object \n",
      " 3   relations     19464 non-null  object \n",
      " 4   Comments      19464 non-null  object \n",
      " 5   id            9462 non-null   float64\n",
      " 6   label         9938 non-null   object \n",
      " 7   start_offset  9462 non-null   float64\n",
      " 8   end_offset    9462 non-null   float64\n",
      "dtypes: float64(4), object(5)\n",
      "memory usage: 1.4+ MB\n"
     ]
    }
   ],
   "source": [
    "#recheck\n",
    "df.info()"
   ]
  },
  {
   "cell_type": "code",
   "execution_count": 9,
   "id": "faa0aaba-0af4-49b5-8e63-41e12c9f7193",
   "metadata": {},
   "outputs": [],
   "source": [
    "#Replace missing values\n",
    "df.loc[df['label'].isna(), 'label'] = 'benign'"
   ]
  },
  {
   "cell_type": "code",
   "execution_count": 10,
   "id": "8b990343-550a-4f85-8ebe-ec11633b7317",
   "metadata": {},
   "outputs": [],
   "source": [
    "#Replace all the missing values in the DataFrame with 0\n",
    "df=df.fillna(0)"
   ]
  },
  {
   "cell_type": "code",
   "execution_count": 11,
   "id": "f635b53c-7188-4bc5-a801-b022754ce6a7",
   "metadata": {},
   "outputs": [
    {
     "name": "stdout",
     "output_type": "stream",
     "text": [
      "<class 'pandas.core.frame.DataFrame'>\n",
      "RangeIndex: 19940 entries, 0 to 19939\n",
      "Data columns (total 9 columns):\n",
      " #   Column        Non-Null Count  Dtype  \n",
      "---  ------        --------------  -----  \n",
      " 0   index         19940 non-null  float64\n",
      " 1   text          19940 non-null  object \n",
      " 2   entities      19940 non-null  object \n",
      " 3   relations     19940 non-null  object \n",
      " 4   Comments      19940 non-null  object \n",
      " 5   id            19940 non-null  float64\n",
      " 6   label         19940 non-null  object \n",
      " 7   start_offset  19940 non-null  float64\n",
      " 8   end_offset    19940 non-null  float64\n",
      "dtypes: float64(4), object(5)\n",
      "memory usage: 1.4+ MB\n"
     ]
    }
   ],
   "source": [
    "df.info()"
   ]
  },
  {
   "cell_type": "code",
   "execution_count": 12,
   "id": "6e52fbb6-4b6a-4dab-8dd0-9427ee6ca6d7",
   "metadata": {},
   "outputs": [
    {
     "data": {
      "text/plain": [
       "array(['malware', 'attack-pattern', 'benign', 'TIME', 'identity',\n",
       "       'SOFTWARE', 'threat-actor', 'location', 'tools', 'FILEPATH',\n",
       "       'SHA2', 'vulnerability', 'URL', 'DOMAIN', 'IPV4', 'campaign',\n",
       "       'EMAIL', 'REGISTRYKEY', 'SHA1', 'Infrastucture', 'MD5', 'url',\n",
       "       'hash'], dtype=object)"
      ]
     },
     "execution_count": 12,
     "metadata": {},
     "output_type": "execute_result"
    }
   ],
   "source": [
    "#Return an array of unique values in the label column\n",
    "df['label'].unique()"
   ]
  },
  {
   "cell_type": "code",
   "execution_count": 13,
   "id": "86a3ab62-bfaf-4c27-8d37-d4218827781f",
   "metadata": {},
   "outputs": [],
   "source": [
    "#Create new dataframe\n",
    "data = df[['text','label']]"
   ]
  },
  {
   "cell_type": "code",
   "execution_count": 14,
   "id": "a9156bd4-c683-49d0-9133-0d68bd5567a5",
   "metadata": {},
   "outputs": [],
   "source": [
    "#Lemmatization\n",
    "lemmatizer = WordNetLemmatizer()\n",
    "\n",
    "stop_words = set(stopwords.words('english'))\n",
    "punctuations = set(string.punctuation)"
   ]
  },
  {
   "cell_type": "code",
   "execution_count": 15,
   "id": "c54432af-8d05-4711-8b98-80c8975385b6",
   "metadata": {},
   "outputs": [],
   "source": [
    "#Tokenization\n",
    "def preprocess_text(text):\n",
    "    tokens = word_tokenize(text)\n",
    "\n",
    "    tokens = [token.lower() for token in tokens if token not in punctuations]\n",
    "\n",
    "    tokens = [lemmatizer.lemmatize(token) for token in tokens]\n",
    "\n",
    "    tokens = [token for token in tokens if token not in stop_words]\n",
    "\n",
    "    processed_text = ' '.join(tokens)\n",
    "    \n",
    "    return processed_text"
   ]
  },
  {
   "cell_type": "code",
   "execution_count": 16,
   "id": "6e9d4279-9897-4dc2-a258-bec1e59da136",
   "metadata": {},
   "outputs": [
    {
     "name": "stderr",
     "output_type": "stream",
     "text": [
      "C:\\Users\\arune\\AppData\\Local\\Temp\\ipykernel_33824\\3005584527.py:1: SettingWithCopyWarning: \n",
      "A value is trying to be set on a copy of a slice from a DataFrame.\n",
      "Try using .loc[row_indexer,col_indexer] = value instead\n",
      "\n",
      "See the caveats in the documentation: https://pandas.pydata.org/pandas-docs/stable/user_guide/indexing.html#returning-a-view-versus-a-copy\n",
      "  data['text_new'] = data['text'].apply(preprocess_text)\n"
     ]
    }
   ],
   "source": [
    "data['text_new'] = data['text'].apply(preprocess_text)"
   ]
  },
  {
   "cell_type": "code",
   "execution_count": 17,
   "id": "6182af28-8d3e-4173-8269-396e45d3eee9",
   "metadata": {},
   "outputs": [],
   "source": [
    "#Drop 'text' column from 'data' DataFrame\n",
    "data = data.drop(labels=['text'],axis=1)"
   ]
  },
  {
   "cell_type": "code",
   "execution_count": 18,
   "id": "b9e5f7c9-b6f8-45be-9e19-aca477f2a8e6",
   "metadata": {},
   "outputs": [],
   "source": [
    "#Replace all non-alphanumeric and non-whitespace characters of the tex_new column with an empty string\n",
    "data['text_new'] = data['text_new'].str.replace(r'[^a-zA-Z0-9\\s]', '', regex=True)"
   ]
  },
  {
   "cell_type": "code",
   "execution_count": 22,
   "id": "1661caa7-a213-4f9e-8eef-a22d6e998c3e",
   "metadata": {},
   "outputs": [
    {
     "data": {
      "text/html": [
       "<div>\n",
       "<style scoped>\n",
       "    .dataframe tbody tr th:only-of-type {\n",
       "        vertical-align: middle;\n",
       "    }\n",
       "\n",
       "    .dataframe tbody tr th {\n",
       "        vertical-align: top;\n",
       "    }\n",
       "\n",
       "    .dataframe thead th {\n",
       "        text-align: right;\n",
       "    }\n",
       "</style>\n",
       "<table border=\"1\" class=\"dataframe\">\n",
       "  <thead>\n",
       "    <tr style=\"text-align: right;\">\n",
       "      <th></th>\n",
       "      <th>label</th>\n",
       "      <th>text_new</th>\n",
       "    </tr>\n",
       "  </thead>\n",
       "  <tbody>\n",
       "    <tr>\n",
       "      <th>0</th>\n",
       "      <td>malware</td>\n",
       "      <td>post also available  japanese ctblocker wellkn...</td>\n",
       "    </tr>\n",
       "    <tr>\n",
       "      <th>1</th>\n",
       "      <td>attack-pattern</td>\n",
       "      <td>attack vector basic repeat begin spear phishin...</td>\n",
       "    </tr>\n",
       "    <tr>\n",
       "      <th>2</th>\n",
       "      <td>benign</td>\n",
       "      <td>executed user first stage malware downloads ex...</td>\n",
       "    </tr>\n",
       "    <tr>\n",
       "      <th>3</th>\n",
       "      <td>TIME</td>\n",
       "      <td>first known campaign wa launched crimeware nov...</td>\n",
       "    </tr>\n",
       "    <tr>\n",
       "      <th>4</th>\n",
       "      <td>benign</td>\n",
       "      <td>first stage downloaded ransomware site</td>\n",
       "    </tr>\n",
       "  </tbody>\n",
       "</table>\n",
       "</div>"
      ],
      "text/plain": [
       "            label                                           text_new\n",
       "0         malware  post also available  japanese ctblocker wellkn...\n",
       "1  attack-pattern  attack vector basic repeat begin spear phishin...\n",
       "2          benign  executed user first stage malware downloads ex...\n",
       "3            TIME  first known campaign wa launched crimeware nov...\n",
       "4          benign             first stage downloaded ransomware site"
      ]
     },
     "execution_count": 22,
     "metadata": {},
     "output_type": "execute_result"
    }
   ],
   "source": [
    "data.head()"
   ]
  },
  {
   "cell_type": "code",
   "execution_count": 23,
   "id": "d22a8188-ebe6-48bd-9716-60ad2ccfbae5",
   "metadata": {},
   "outputs": [
    {
     "data": {
      "text/plain": [
       "(19940, 2)"
      ]
     },
     "execution_count": 23,
     "metadata": {},
     "output_type": "execute_result"
    }
   ],
   "source": [
    "#show the number of tuples\n",
    "data.shape"
   ]
  },
  {
   "cell_type": "code",
   "execution_count": 24,
   "id": "68b7c6fa-43cd-427a-9d31-7f88bb1c511b",
   "metadata": {},
   "outputs": [],
   "source": [
    "#Update values in the Label based on certain conditions\n",
    "data.label.loc[(data['label']==\"MD5\") | (data['label']==\"REGISTRYKEY\") | (data['label']==\"EMAIL\") |  (data['label']==\"Infrastucture\") | (data['label']==\"DOMAIN\") | (data['label']==\"SHA1\") | (data['label']==\"IPV4\") | (data['label']==\"campaign\") | (data['label']==\"URL\") | (data['label']==\"SHA2\") | (data['label']==\"vulnerability\") | (data['label']==\"FILEPATH\") | (data['label']==\"tools\") | (data['label']==\"TIME\") | (data['label']==\"url\") | (data['label']==\"hash\") ] = \"NEED_ATTENTION\""
   ]
  },
  {
   "cell_type": "code",
   "execution_count": 25,
   "id": "de4d919b-f96a-43c5-b38d-1c10bc4a74b9",
   "metadata": {},
   "outputs": [
    {
     "data": {
      "text/plain": [
       "label\n",
       "benign            10002\n",
       "NEED_ATTENTION     2132\n",
       "malware            1911\n",
       "location           1405\n",
       "SOFTWARE           1229\n",
       "attack-pattern     1206\n",
       "identity           1165\n",
       "threat-actor        890\n",
       "Name: count, dtype: int64"
      ]
     },
     "execution_count": 25,
     "metadata": {},
     "output_type": "execute_result"
    }
   ],
   "source": [
    "#List the number of occurrences in each uniques value\n",
    "data['label'].value_counts()"
   ]
  },
  {
   "cell_type": "code",
   "execution_count": 26,
   "id": "701eff27-b1a4-43f7-b671-e87984b69a29",
   "metadata": {},
   "outputs": [
    {
     "data": {
      "text/plain": [
       "4655"
      ]
     },
     "execution_count": 26,
     "metadata": {},
     "output_type": "execute_result"
    }
   ],
   "source": [
    "#Calculate maximum number of string in the text_new column\n",
    "max_length = data['text_new'].str.len().max()\n",
    "max_length"
   ]
  },
  {
   "cell_type": "code",
   "execution_count": 27,
   "id": "a2feb7ec-0d48-415e-9355-0ab6eef86af6",
   "metadata": {},
   "outputs": [],
   "source": [
    "#calculate maximum number of tokens\n",
    "max_length_tokens = data['text_new'].apply(lambda x: len(x.split())).max()"
   ]
  },
  {
   "cell_type": "code",
   "execution_count": 28,
   "id": "6296e091-219e-4080-acf6-ff57097f1031",
   "metadata": {},
   "outputs": [
    {
     "name": "stdout",
     "output_type": "stream",
     "text": [
      "Maximum Sequence Length (Tokens): 451\n",
      "Maximum Sequence Length (Characters): 4655\n"
     ]
    }
   ],
   "source": [
    "#Calculate maximum sequence lenth\n",
    "max_length_characters = data['text_new'].apply(lambda x: len(x)).max()\n",
    "\n",
    "print('Maximum Sequence Length (Tokens):', max_length_tokens)\n",
    "print('Maximum Sequence Length (Characters):', max_length_characters)"
   ]
  },
  {
   "cell_type": "code",
   "execution_count": 29,
   "id": "f56bb8fb-8f07-44d4-b3ba-7389a058762a",
   "metadata": {},
   "outputs": [],
   "source": [
    "#Limit inputs\n",
    "MAX_NB_WORDS = 50000\n",
    "MAX_SEQ_LENGTH = 450\n",
    "EMBEDDING_DIM=100"
   ]
  },
  {
   "cell_type": "code",
   "execution_count": 30,
   "id": "ba70dd4d-7e78-4a86-8792-cfe18148c2eb",
   "metadata": {},
   "outputs": [],
   "source": [
    "#Rename text_new to text\n",
    "data = data.rename(columns={'text_new': 'text'})"
   ]
  },
  {
   "cell_type": "code",
   "execution_count": 31,
   "id": "d10b645b-efae-40c7-a9a9-8fa1fd44c484",
   "metadata": {},
   "outputs": [],
   "source": [
    "tokenizer = Tokenizer(num_words=MAX_NB_WORDS, filters='!\"#$%()*+,-./:;<=>?@[\\]^_`{|}',lower=True)\n",
    "tokenizer.fit_on_texts(data['text'].values)"
   ]
  },
  {
   "cell_type": "code",
   "execution_count": 32,
   "id": "207d1f8f-f685-449f-9df2-bbfc076c9b51",
   "metadata": {},
   "outputs": [
    {
     "data": {
      "text/plain": [
       "11934"
      ]
     },
     "execution_count": 32,
     "metadata": {},
     "output_type": "execute_result"
    }
   ],
   "source": [
    "word_index = tokenizer.word_index\n",
    "len(word_index)"
   ]
  },
  {
   "cell_type": "code",
   "execution_count": 33,
   "id": "e29fc8ef-859b-4c05-8dec-9722b6f2b044",
   "metadata": {},
   "outputs": [],
   "source": [
    "#Convert text data into integers\n",
    "X = tokenizer.texts_to_sequences(data['text'].values) \n",
    "X = pad_sequences(X,maxlen=MAX_SEQ_LENGTH)"
   ]
  },
  {
   "cell_type": "code",
   "execution_count": 34,
   "id": "b058f12a-0868-43de-a3d5-c14c8e8d2ffa",
   "metadata": {},
   "outputs": [
    {
     "data": {
      "text/plain": [
       "array([[   0,    0,    0, ..., 1943, 1718, 4837],\n",
       "       [   0,    0,    0, ...,  343, 1916, 6560],\n",
       "       [   0,    0,    0, ...,  533,   18,  181],\n",
       "       ...,\n",
       "       [   0,    0,    0, ...,  257,    2,   18],\n",
       "       [   0,    0,    0, ..., 1374, 1828, 2238],\n",
       "       [   0,    0,    0, ...,   16,   26,   39]])"
      ]
     },
     "execution_count": 34,
     "metadata": {},
     "output_type": "execute_result"
    }
   ],
   "source": [
    "X"
   ]
  },
  {
   "cell_type": "code",
   "execution_count": 35,
   "id": "4bd2003b-556b-4916-ad70-57bf5372b2f5",
   "metadata": {},
   "outputs": [
    {
     "data": {
      "text/plain": [
       "(19940, 450)"
      ]
     },
     "execution_count": 35,
     "metadata": {},
     "output_type": "execute_result"
    }
   ],
   "source": [
    "X.shape"
   ]
  },
  {
   "cell_type": "code",
   "execution_count": 36,
   "id": "747bb4b1-77cf-48d5-b6cd-cf3dcfc9b379",
   "metadata": {},
   "outputs": [],
   "source": [
    "Y = pd.get_dummies(data['label']).values"
   ]
  },
  {
   "cell_type": "code",
   "execution_count": 37,
   "id": "3b1696e4-fdb5-420f-b976-f7e624481360",
   "metadata": {},
   "outputs": [],
   "source": [
    "from sklearn.preprocessing import LabelBinarizer\n",
    "# One-hot encoding using LabelBinarizer\n",
    "lb = LabelBinarizer()\n",
    "Y = lb.fit_transform(data['label'])"
   ]
  },
  {
   "cell_type": "code",
   "execution_count": 38,
   "id": "53fb9b47-77ee-404f-acd1-d07bf0dd4525",
   "metadata": {},
   "outputs": [
    {
     "data": {
      "text/plain": [
       "array([[0, 0, 0, ..., 0, 1, 0],\n",
       "       [0, 0, 1, ..., 0, 0, 0],\n",
       "       [0, 0, 0, ..., 0, 0, 0],\n",
       "       ...,\n",
       "       [1, 0, 0, ..., 0, 0, 0],\n",
       "       [0, 0, 0, ..., 0, 0, 1],\n",
       "       [0, 0, 0, ..., 0, 1, 0]])"
      ]
     },
     "execution_count": 38,
     "metadata": {},
     "output_type": "execute_result"
    }
   ],
   "source": [
    "Y"
   ]
  },
  {
   "cell_type": "code",
   "execution_count": 39,
   "id": "e638842f-66bf-40d3-a5e2-b5ea10fab808",
   "metadata": {},
   "outputs": [
    {
     "data": {
      "text/plain": [
       "(19940, 8)"
      ]
     },
     "execution_count": 39,
     "metadata": {},
     "output_type": "execute_result"
    }
   ],
   "source": [
    "Y.shape"
   ]
  },
  {
   "cell_type": "code",
   "execution_count": 40,
   "id": "28934644-969a-482e-b83b-e71b5e26c190",
   "metadata": {},
   "outputs": [],
   "source": [
    "#Split data into training sets and testing sets\n",
    "x_train, x_test, y_train, y_test = train_test_split(X,Y,test_size=0.20,random_state=42)"
   ]
  },
  {
   "cell_type": "code",
   "execution_count": 41,
   "id": "590e6d00-aada-4a3e-8f8d-917ecd834f13",
   "metadata": {},
   "outputs": [
    {
     "name": "stderr",
     "output_type": "stream",
     "text": [
      "C:\\Users\\arune\\anaconda3\\Lib\\site-packages\\keras\\src\\layers\\core\\embedding.py:86: UserWarning: Argument `input_length` is deprecated. Just remove it.\n",
      "  warnings.warn(\n"
     ]
    }
   ],
   "source": [
    "model=Sequential()\n",
    "model.add(Embedding(MAX_NB_WORDS,EMBEDDING_DIM,input_length=X.shape[1]))\n",
    "model.add(LSTM(150,dropout=0.2,recurrent_dropout=0.2))\n",
    "model.add(Dense(50))\n",
    "model.add(Dropout(0.2))\n",
    "model.add(Dense(8,activation='softmax'))"
   ]
  },
  {
   "cell_type": "code",
   "execution_count": 43,
   "id": "318c3474-7ce8-468f-b4ff-b62c7afa5da0",
   "metadata": {},
   "outputs": [],
   "source": [
    "encoder_vocab = 1000\n",
    "model.add(Embedding(input_dim=encoder_vocab, output_dim=64))"
   ]
  },
  {
   "cell_type": "code",
   "execution_count": 44,
   "id": "704eb5d4-e9e4-449e-9e61-2f7c1f852ce0",
   "metadata": {},
   "outputs": [],
   "source": [
    "model=Sequential()\n",
    "model.add(Embedding(MAX_NB_WORDS,EMBEDDING_DIM,input_length=X.shape[1]))\n",
    "model.add(LSTM(150,dropout=0.2,recurrent_dropout=0.2))\n",
    "model.add(Dense(50))\n",
    "model.add(Dropout(0.2))\n",
    "model.add(Dense(8,activation='softmax'))"
   ]
  },
  {
   "cell_type": "code",
   "execution_count": 45,
   "id": "1aa29a26-f7b0-47bb-982b-97f9a1df1609",
   "metadata": {},
   "outputs": [],
   "source": [
    "model=Sequential()\n",
    "model.add(Embedding(MAX_NB_WORDS,EMBEDDING_DIM))\n",
    "model.add(LSTM(150,dropout=0.2,recurrent_dropout=0.2))\n",
    "model.add(Dense(50))\n",
    "model.add(Dropout(0.2))\n",
    "model.add(Dense(8,activation='softmax'))"
   ]
  },
  {
   "cell_type": "code",
   "execution_count": 46,
   "id": "7b540671-6c83-4dd2-be8b-678afeb5891c",
   "metadata": {},
   "outputs": [],
   "source": [
    "model.compile(loss='categorical_crossentropy', optimizer='adam', metrics=['accuracy'])"
   ]
  },
  {
   "cell_type": "code",
   "execution_count": 47,
   "id": "8df2bf68-b1ac-4bf6-9874-b9ff6475776b",
   "metadata": {},
   "outputs": [],
   "source": [
    "model=Sequential()\n",
    "model.add(Embedding(MAX_NB_WORDS,EMBEDDING_DIM,input_length=X.shape[1]))\n",
    "model.add(LSTM(150,dropout=0.2,recurrent_dropout=0.2))\n",
    "model.add(Dense(50))\n",
    "model.add(Dropout(0.2))\n",
    "model.add(Dense(8,activation='softmax'))"
   ]
  },
  {
   "cell_type": "code",
   "execution_count": 48,
   "id": "de8f931c-22f5-467e-82ce-729078ebda23",
   "metadata": {},
   "outputs": [],
   "source": [
    "model.compile(loss='categorical_crossentropy', optimizer='adam', metrics=['accuracy'])"
   ]
  },
  {
   "cell_type": "code",
   "execution_count": 50,
   "id": "63ad0fc1-585b-4623-b9aa-355cef128089",
   "metadata": {},
   "outputs": [
    {
     "name": "stdout",
     "output_type": "stream",
     "text": [
      "Saved model to disk\n"
     ]
    }
   ],
   "source": [
    "#Save the model to the system\n",
    "model.save_weights(\"model.weights.h5\")\n",
    "print(\"Saved model to disk\")"
   ]
  },
  {
   "cell_type": "code",
   "execution_count": 51,
   "id": "0401e0f9-5b21-4dcc-ac91-1787791d2956",
   "metadata": {},
   "outputs": [
    {
     "name": "stdout",
     "output_type": "stream",
     "text": [
      "Epoch 1/10\n",
      "\u001b[1m200/200\u001b[0m \u001b[32m━━━━━━━━━━━━━━━━━━━━\u001b[0m\u001b[37m\u001b[0m \u001b[1m85s\u001b[0m 407ms/step - accuracy: 0.4904 - loss: 1.5937 - val_accuracy: 0.5898 - val_loss: 1.2489\n",
      "Epoch 2/10\n",
      "\u001b[1m200/200\u001b[0m \u001b[32m━━━━━━━━━━━━━━━━━━━━\u001b[0m\u001b[37m\u001b[0m \u001b[1m89s\u001b[0m 445ms/step - accuracy: 0.6541 - loss: 1.0466 - val_accuracy: 0.7424 - val_loss: 0.8444\n",
      "Epoch 3/10\n",
      "\u001b[1m200/200\u001b[0m \u001b[32m━━━━━━━━━━━━━━━━━━━━\u001b[0m\u001b[37m\u001b[0m \u001b[1m85s\u001b[0m 425ms/step - accuracy: 0.8432 - loss: 0.5185 - val_accuracy: 0.8010 - val_loss: 0.7077\n",
      "Epoch 4/10\n",
      "\u001b[1m200/200\u001b[0m \u001b[32m━━━━━━━━━━━━━━━━━━━━\u001b[0m\u001b[37m\u001b[0m \u001b[1m85s\u001b[0m 424ms/step - accuracy: 0.9117 - loss: 0.2895 - val_accuracy: 0.8395 - val_loss: 0.6726\n",
      "Epoch 5/10\n",
      "\u001b[1m200/200\u001b[0m \u001b[32m━━━━━━━━━━━━━━━━━━━━\u001b[0m\u001b[37m\u001b[0m \u001b[1m94s\u001b[0m 470ms/step - accuracy: 0.9402 - loss: 0.2047 - val_accuracy: 0.8490 - val_loss: 0.6204\n",
      "Epoch 6/10\n",
      "\u001b[1m200/200\u001b[0m \u001b[32m━━━━━━━━━━━━━━━━━━━━\u001b[0m\u001b[37m\u001b[0m \u001b[1m82s\u001b[0m 409ms/step - accuracy: 0.9532 - loss: 0.1641 - val_accuracy: 0.8565 - val_loss: 0.6717\n",
      "Epoch 7/10\n",
      "\u001b[1m200/200\u001b[0m \u001b[32m━━━━━━━━━━━━━━━━━━━━\u001b[0m\u001b[37m\u001b[0m \u001b[1m81s\u001b[0m 403ms/step - accuracy: 0.9562 - loss: 0.1359 - val_accuracy: 0.8562 - val_loss: 0.7047\n",
      "Epoch 8/10\n",
      "\u001b[1m200/200\u001b[0m \u001b[32m━━━━━━━━━━━━━━━━━━━━\u001b[0m\u001b[37m\u001b[0m \u001b[1m82s\u001b[0m 411ms/step - accuracy: 0.9633 - loss: 0.1192 - val_accuracy: 0.8662 - val_loss: 0.7222\n"
     ]
    }
   ],
   "source": [
    "#Train machine learning model\n",
    "epochs=10\n",
    "batch_size=64\n",
    "history = model.fit(x_train, y_train, epochs=epochs, batch_size=batch_size,validation_split=0.2,callbacks=[EarlyStopping(monitor='val_loss', patience=3, min_delta=0.0001)])"
   ]
  },
  {
   "cell_type": "code",
   "execution_count": 52,
   "id": "712e1a1c-26ed-46a6-8d40-23b8f9754b3f",
   "metadata": {},
   "outputs": [
    {
     "name": "stdout",
     "output_type": "stream",
     "text": [
      "\u001b[1m125/125\u001b[0m \u001b[32m━━━━━━━━━━━━━━━━━━━━\u001b[0m\u001b[37m\u001b[0m \u001b[1m10s\u001b[0m 81ms/step - accuracy: 0.8547 - loss: 0.6599\n",
      "Test set\n",
      "  Loss: 0.667\n",
      "  Accuracy: 0.858\n"
     ]
    }
   ],
   "source": [
    "#evaluate the performance of trained model\n",
    "accr = model.evaluate(x_test,y_test)\n",
    "print('Test set\\n  Loss: {:0.3f}\\n  Accuracy: {:0.3f}'.format(accr[0],accr[1]))"
   ]
  },
  {
   "cell_type": "code",
   "execution_count": 53,
   "id": "fd68e20e-21dc-4737-b2d6-873bddee7aa4",
   "metadata": {},
   "outputs": [
    {
     "name": "stdout",
     "output_type": "stream",
     "text": [
      "\u001b[1m125/125\u001b[0m \u001b[32m━━━━━━━━━━━━━━━━━━━━\u001b[0m\u001b[37m\u001b[0m \u001b[1m13s\u001b[0m 98ms/step\n",
      "Prediction: [9.7399974e-01 1.4814870e-04 7.1955578e-06 1.4975608e-07 1.3021950e-06\n",
      " 7.4932614e-05 2.5767781e-02 7.7473521e-07]\n",
      "Actual: [1 0 0 0 0 0 0 0]\n",
      "Prediction: [3.2240197e-05 1.3032131e-05 7.7572452e-07 9.9989617e-01 7.4921394e-07\n",
      " 1.3475212e-05 4.3509724e-05 8.3901540e-08]\n",
      "Actual: [0 0 0 1 0 0 0 0]\n",
      "Prediction: [1.2452004e-03 4.2445210e-04 2.9183018e-05 5.7197624e-04 1.9584993e-04\n",
      " 6.3476507e-03 9.9060166e-01 5.8399944e-04]\n",
      "Actual: [0 0 0 0 0 0 1 0]\n",
      "Prediction: [3.8085226e-04 9.7603828e-01 2.7808055e-06 2.3452839e-02 1.7250915e-05\n",
      " 3.7077229e-05 7.0539732e-05 3.0514170e-07]\n",
      "Actual: [0 1 0 0 0 0 0 0]\n",
      "Prediction: [1.5999219e-06 8.8641727e-06 9.7547500e-06 9.9995959e-01 6.7335277e-06\n",
      " 1.6346719e-06 4.6678183e-06 7.1121176e-06]\n",
      "Actual: [0 0 0 1 0 0 0 0]\n"
     ]
    }
   ],
   "source": [
    "#predict dataset and compare it with actual labes\n",
    "predictions = model.predict(x_test)\n",
    "for i in range(5):\n",
    "    print('Prediction: {}'.format(predictions[i]))\n",
    "    print('Actual: {}'.format(y_test[i]))"
   ]
  },
  {
   "cell_type": "code",
   "execution_count": 54,
   "id": "aa4828c6-e05c-4ba9-99ea-bd80f18c6fac",
   "metadata": {},
   "outputs": [
    {
     "data": {
      "image/png": "[encoded data removed]",
      "text/plain": [
       "<Figure size 640x480 with 1 Axes>"
      ]
     },
     "metadata": {},
     "output_type": "display_data"
    }
   ],
   "source": [
    "import matplotlib.pyplot as plt\n",
    "#show training and validation loss curve\n",
    "plt.title('Loss')\n",
    "plt.plot(history.history['loss'], label='train')\n",
    "plt.plot(history.history['val_loss'], label='test')\n",
    "plt.legend()\n",
    "plt.show();"
   ]
  },
  {
   "cell_type": "code",
   "execution_count": 55,
   "id": "b0cd3153-f490-4f52-854f-5adc5dd18f41",
   "metadata": {},
   "outputs": [
    {
     "name": "stdout",
     "output_type": "stream",
     "text": [
      "\u001b[1m125/125\u001b[0m \u001b[32m━━━━━━━━━━━━━━━━━━━━\u001b[0m\u001b[37m\u001b[0m \u001b[1m11s\u001b[0m 86ms/step\n"
     ]
    }
   ],
   "source": [
    "#get predicted class label for test data\n",
    "y_pred = np.argmax(model.predict(x_test), axis=1)"
   ]
  },
  {
   "cell_type": "code",
   "execution_count": 56,
   "id": "b8473d1d-8bd3-40ea-a00d-47625f725d59",
   "metadata": {},
   "outputs": [
    {
     "name": "stdout",
     "output_type": "stream",
     "text": [
      "['NEED_ATTENTION' 'SOFTWARE' 'attack-pattern' 'benign' 'identity'\n",
      " 'location' 'malware' 'threat-actor']\n"
     ]
    }
   ],
   "source": [
    "class_labels = lb.classes_\n",
    "\n",
    "print(class_labels)"
   ]
  },
  {
   "cell_type": "code",
   "execution_count": 57,
   "id": "3720912c-1fa8-4eb0-ad7b-d85c92d3209b",
   "metadata": {},
   "outputs": [
    {
     "name": "stdout",
     "output_type": "stream",
     "text": [
      "\u001b[1m125/125\u001b[0m \u001b[32m━━━━━━━━━━━━━━━━━━━━\u001b[0m\u001b[37m\u001b[0m \u001b[1m12s\u001b[0m 92ms/step\n"
     ]
    },
    {
     "data": {
      "image/png": "[encoded data removed]",
      "text/plain": [
       "<Figure size 800x600 with 2 Axes>"
      ]
     },
     "metadata": {},
     "output_type": "display_data"
    }
   ],
   "source": [
    "#Generation and visualization of confusion matrix using a heatmap\n",
    "import numpy as np\n",
    "import matplotlib.pyplot as plt\n",
    "import seaborn as sns\n",
    "from sklearn.metrics import confusion_matrix\n",
    "\n",
    "y_true = np.argmax(y_test, axis=1)\n",
    "y_pred = np.argmax(model.predict(x_test), axis=1)\n",
    "\n",
    "cm = confusion_matrix(y_true, y_pred)\n",
    "\n",
    "classes = np.arange(len(cm))\n",
    "\n",
    "plt.figure(figsize=(8, 6))\n",
    "sns.heatmap(cm, annot=True, fmt='d', cmap='Blues', xticklabels=class_labels, yticklabels=class_labels)\n",
    "plt.title('Confusion Matrix')\n",
    "plt.xlabel('Predicted Label')\n",
    "plt.ylabel('True Label')\n",
    "plt.show()"
   ]
  },
  {
   "cell_type": "code",
   "execution_count": 58,
   "id": "19d8b7ef-3ebc-4d65-85b3-6efbe8646380",
   "metadata": {},
   "outputs": [
    {
     "data": {
      "text/plain": [
       "0.8583249749247743"
      ]
     },
     "execution_count": 58,
     "metadata": {},
     "output_type": "execute_result"
    }
   ],
   "source": [
    "#calculate the accuracy of machine learning model based on the confusion matrix\n",
    "accuracy = (cm.diagonal().sum()) / cm.sum()\n",
    "accuracy"
   ]
  },
  {
   "cell_type": "code",
   "execution_count": 59,
   "id": "e3a5e6cd-f666-4733-9126-112eb9063e06",
   "metadata": {},
   "outputs": [
    {
     "data": {
      "text/plain": [
       "array([0.8       , 0.69379845, 0.80645161, 0.92341897, 0.82743363,\n",
       "       0.75769231, 0.83541147, 0.79581152])"
      ]
     },
     "execution_count": 59,
     "metadata": {},
     "output_type": "execute_result"
    }
   ],
   "source": [
    "#calculate precision of the model based on confusion matrix\n",
    "precision = cm.diagonal() / cm.sum(axis=0)\n",
    "precision"
   ]
  },
  {
   "cell_type": "code",
   "execution_count": 60,
   "id": "e0a8473a-f822-4e3b-ae26-ee7f16497ead",
   "metadata": {},
   "outputs": [
    {
     "data": {
      "text/plain": [
       "array([0.7755102 , 0.73360656, 0.79365079, 0.93170489, 0.73622047,\n",
       "       0.74621212, 0.86340206, 0.80851064])"
      ]
     },
     "execution_count": 60,
     "metadata": {},
     "output_type": "execute_result"
    }
   ],
   "source": [
    "#calculate true positive rate or recall based on confusion matrix\n",
    "recall = cm.diagonal() / cm.sum(axis=1)\n",
    "recall"
   ]
  },
  {
   "cell_type": "code",
   "execution_count": 61,
   "id": "8d6e7de8-bb41-41a7-8a35-9fbf90f7ff7f",
   "metadata": {},
   "outputs": [
    {
     "data": {
      "text/plain": [
       "array([0.78756477, 0.71314741, 0.8       , 0.92754342, 0.77916667,\n",
       "       0.7519084 , 0.84917617, 0.80211082])"
      ]
     },
     "execution_count": 61,
     "metadata": {},
     "output_type": "execute_result"
    }
   ],
   "source": [
    "#calculate f1 score\n",
    "f1_score = 2 * (precision * recall) / (precision + recall)\n",
    "f1_score"
   ]
  },
  {
   "cell_type": "code",
   "execution_count": 62,
   "id": "cb2b46b5-85ed-4799-bf6d-1a4d5f34abb5",
   "metadata": {},
   "outputs": [
    {
     "data": {
      "image/png": "[encoded data removed]",
      "text/plain": [
       "<Figure size 640x480 with 1 Axes>"
      ]
     },
     "metadata": {},
     "output_type": "display_data"
    },
    {
     "data": {
      "image/png": "[encoded data removed]",
      "text/plain": [
       "<Figure size 640x480 with 1 Axes>"
      ]
     },
     "metadata": {},
     "output_type": "display_data"
    }
   ],
   "source": [
    "import matplotlib.pyplot as plt\n",
    "\n",
    "def plot_graphs(history, string):\n",
    "  plt.plot(history.history[string])\n",
    "  plt.plot(history.history['val_'+string])\n",
    "  plt.xlabel(\"Epochs\")\n",
    "  plt.ylabel(string)\n",
    "  plt.legend([string, 'val_'+string])\n",
    "  plt.show()\n",
    "  \n",
    "plot_graphs(history, \"accuracy\")\n",
    "plot_graphs(history, \"loss\")"
   ]
  },
  {
   "cell_type": "code",
   "execution_count": 68,
   "id": "27fd840e-d5dc-4174-966d-0b9077e3c76f",
   "metadata": {},
   "outputs": [],
   "source": [
    "import re\n",
    "\n",
    "def extract_features(text):\n",
    "    features = {\n",
    "        'keyword_malware': 1 if 'malware' in text.lower() else 0,\n",
    "        'keyword_virus': 1 if 'virus' in text.lower() else 0,\n",
    "        'keyword_trojan': 1 if 'trojan' in text.lower() else 0,\n",
    "        'keyword_attack': 1 if 'attack' in text.lower() else 0,\n",
    "        'keyword_exploit': 1 if 'exploit' in text.lower() else 0,\n",
    "        'text_length': len(text),\n",
    "        'num_urls': len(re.findall('http[s]?://(?:[a-zA-Z]|[0-9]|[$-_@.&+]|[!*\\\\(\\\\),]|(?:%[0-9a-fA-F][0-9a-fA-F]))+', text))\n",
    "    }\n",
    "    return features"
   ]
  },
  {
   "cell_type": "code",
   "execution_count": 69,
   "id": "20ebdb0f-c315-45bb-87e0-5e6549101ab7",
   "metadata": {},
   "outputs": [],
   "source": [
    "data['features'] = data['text'].apply(extract_features)"
   ]
  },
  {
   "cell_type": "code",
   "execution_count": 73,
   "id": "b36449fb-440f-4083-8675-f87dd95b251d",
   "metadata": {},
   "outputs": [],
   "source": [
    "#Apply rules for threat classification\n",
    "def apply_rules(features):\n",
    "    if features['keyword_malware'] == 1 or features['keyword_virus'] == 1:\n",
    "        if features['text_length'] > 100:\n",
    "            return 'HIGH_PRIORITY'\n",
    "        else:\n",
    "            return 'MEDIUM_PRIORITY'\n",
    "    else:\n",
    "        return 'LOW_PRIORITY'"
   ]
  },
  {
   "cell_type": "code",
   "execution_count": 71,
   "id": "0471b84a-ef71-4348-80c9-ecfae1038947",
   "metadata": {},
   "outputs": [],
   "source": [
    "data['triage_category'] = data['features'].apply(apply_rules)"
   ]
  },
  {
   "cell_type": "code",
   "execution_count": 72,
   "id": "567d0841-b5ee-4dbb-ad9c-7e75d3515014",
   "metadata": {
    "scrolled": true
   },
   "outputs": [
    {
     "data": {
      "text/plain": [
       "array([[   0,    0,    0,    0,    0,    0,    0,    0,    0,    0,    0],\n",
       "       [   0,    0,    0,    0,    0,    0,    0,    0,    0,    0,    0],\n",
       "       [   0,    0,    0,    0,    0,    0,    0,    0,    0,    0,    0],\n",
       "       [ 148, 1924,   60,    0,    0,    0,    0,    0,    0,    0,    0],\n",
       "       [  71, 1131,   27,    0,    0,    0,    0,    0,    0,    0,    0],\n",
       "       [  62, 1097,   47,    0,    0,    0,    0,    0,    0,    0,    0],\n",
       "       [ 220, 9394,  388,    0,    0,    0,    0,    0,    0,    0,    0],\n",
       "       [  40, 1111,   14,    0,    0,    0,    0,    0,    0,    0,    0],\n",
       "       [ 165, 1194,   46,    0,    0,    0,    0,    0,    0,    0,    0],\n",
       "       [ 181, 1590,  140,    0,    0,    0,    0,    0,    0,    0,    0],\n",
       "       [  79,  778,   33,    0,    0,    0,    0,    0,    0,    0,    0]],\n",
       "      dtype=int64)"
      ]
     },
     "execution_count": 72,
     "metadata": {},
     "output_type": "execute_result"
    }
   ],
   "source": [
    "confusion_matrix(data['label'], data['triage_category'])"
   ]
  },
  {
   "cell_type": "code",
   "execution_count": null,
   "id": "18d24588-d6df-492f-a735-8f787ce1a2bd",
   "metadata": {},
   "outputs": [],
   "source": []
  }
 ],
 "metadata": {
  "kernelspec": {
   "display_name": "Python 3 (ipykernel)",
   "language": "python",
   "name": "python3"
  },
  "language_info": {
   "codemirror_mode": {
    "name": "ipython",
    "version": 3
   },
   "file_extension": ".py",
   "mimetype": "text/x-python",
   "name": "python",
   "nbconvert_exporter": "python",
   "pygments_lexer": "ipython3",
   "version": "3.11.7"
  }
 },
 "nbformat": 4,
 "nbformat_minor": 5
}
